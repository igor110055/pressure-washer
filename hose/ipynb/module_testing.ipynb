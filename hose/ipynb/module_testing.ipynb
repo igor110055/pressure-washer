{
 "cells": [
  {
   "cell_type": "code",
   "execution_count": 1,
   "metadata": {},
   "outputs": [
    {
     "ename": "ModuleNotFoundError",
     "evalue": "No module named 'utils'",
     "output_type": "error",
     "traceback": [
      "\u001b[0;31m---------------------------------------------------------------------------\u001b[0m",
      "\u001b[0;31mModuleNotFoundError\u001b[0m                       Traceback (most recent call last)",
      "\u001b[1;32m/Users/isaac.chasse/coding/pressure-washer/hose/ipynb/module_testing.ipynb Cell 1'\u001b[0m in \u001b[0;36m<cell line: 2>\u001b[0;34m()\u001b[0m\n\u001b[1;32m      <a href='vscode-notebook-cell:/Users/isaac.chasse/coding/pressure-washer/hose/ipynb/module_testing.ipynb#ch0000000?line=0'>1</a>\u001b[0m \u001b[39m# testing imports and other stuff here \u001b[39;00m\n\u001b[0;32m----> <a href='vscode-notebook-cell:/Users/isaac.chasse/coding/pressure-washer/hose/ipynb/module_testing.ipynb#ch0000000?line=1'>2</a>\u001b[0m \u001b[39mfrom\u001b[39;00m \u001b[39mutils\u001b[39;00m\u001b[39m.\u001b[39;00m\u001b[39mclient\u001b[39;00m \u001b[39mimport\u001b[39;00m FtxWebsocketClient\n",
      "\u001b[0;31mModuleNotFoundError\u001b[0m: No module named 'utils'"
     ]
    }
   ],
   "source": [
    "# testing imports and other stuff here \n",
    "from utils.client import FtxWebsocketClient"
   ]
  },
  {
   "cell_type": "code",
   "execution_count": null,
   "metadata": {},
   "outputs": [],
   "source": []
  }
 ],
 "metadata": {
  "kernelspec": {
   "display_name": "Python 3.9.13 ('pressure-washer')",
   "language": "python",
   "name": "python3"
  },
  "language_info": {
   "codemirror_mode": {
    "name": "ipython",
    "version": 3
   },
   "file_extension": ".py",
   "mimetype": "text/x-python",
   "name": "python",
   "nbconvert_exporter": "python",
   "pygments_lexer": "ipython3",
   "version": "3.9.13"
  },
  "orig_nbformat": 4,
  "vscode": {
   "interpreter": {
    "hash": "e385c4805338cfb648004250180acb32a0dd37e1f7827d5239c59c737f064a0d"
   }
  }
 },
 "nbformat": 4,
 "nbformat_minor": 2
}
